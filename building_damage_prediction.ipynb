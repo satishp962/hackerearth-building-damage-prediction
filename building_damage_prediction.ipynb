{
  "nbformat": 4,
  "nbformat_minor": 0,
  "metadata": {
    "colab": {
      "name": "building_damage_prediction.ipynb",
      "version": "0.3.2",
      "provenance": [],
      "collapsed_sections": [],
      "include_colab_link": true
    },
    "kernelspec": {
      "name": "python3",
      "display_name": "Python 3"
    },
    "accelerator": "GPU"
  },
  "cells": [
    {
      "cell_type": "markdown",
      "metadata": {
        "id": "view-in-github",
        "colab_type": "text"
      },
      "source": [
        "[View in Colaboratory](https://colab.research.google.com/github/satishp962/hackerearth-building-damage-prediction/blob/master/building_damage_prediction.ipynb)"
      ]
    },
    {
      "metadata": {
        "id": "dDRfqGnjiYBS",
        "colab_type": "code",
        "colab": {}
      },
      "cell_type": "code",
      "source": [
        "# download dataset\n",
        "!wget \"https://he-s3.s3.amazonaws.com/media/hackathon/machine-learning-challenge-6-1/predict-the-energy-used-612632a9-3f496e7f/a490e594-6-Dataset.zip\""
      ],
      "execution_count": 0,
      "outputs": []
    },
    {
      "metadata": {
        "id": "S09L48VIjHyk",
        "colab_type": "code",
        "colab": {}
      },
      "cell_type": "code",
      "source": [
        "import zipfile\n",
        "zip_ref = zipfile.ZipFile('./a490e594-6-Dataset.zip', 'r')\n",
        "zip_ref.extractall('.')\n",
        "zip_ref.close()"
      ],
      "execution_count": 0,
      "outputs": []
    },
    {
      "metadata": {
        "id": "ilgAbvuoLANl",
        "colab_type": "code",
        "colab": {}
      },
      "cell_type": "code",
      "source": [
        "f = open('./Dataset/ReadMe.md')\n",
        "f.readlines()"
      ],
      "execution_count": 0,
      "outputs": []
    },
    {
      "metadata": {
        "id": "7pYzj-MKjhaW",
        "colab_type": "code",
        "colab": {}
      },
      "cell_type": "code",
      "source": [
        "import pandas as pd\n",
        "\n",
        "building_structure = pd.read_csv('./Dataset/Building_Structure.csv')\n",
        "building_ownership = pd.read_csv('./Dataset/Building_Ownership_Use.csv')\n",
        "train_data = pd.read_csv('./Dataset/train.csv')\n",
        "test_data = pd.read_csv('./Dataset/test.csv')"
      ],
      "execution_count": 0,
      "outputs": []
    },
    {
      "metadata": {
        "id": "T5kJi91v1Coo",
        "colab_type": "code",
        "colab": {}
      },
      "cell_type": "code",
      "source": [
        "set(building_ownership['legal_ownership_status'])"
      ],
      "execution_count": 0,
      "outputs": []
    },
    {
      "metadata": {
        "id": "kK2jDFW76G05",
        "colab_type": "code",
        "colab": {}
      },
      "cell_type": "code",
      "source": [
        "status = building_ownership['legal_ownership_status'].tolist()\n",
        "for i in range(len(status)):\n",
        "  if status[i] == \"Public\":\n",
        "    status[i] = 1\n",
        "  else:\n",
        "    status[i] = 0\n",
        "    \n",
        "building_ownership['is_public'] = status\n",
        "\n",
        "status = building_ownership['legal_ownership_status'].tolist()\n",
        "for i in range(len(status)):\n",
        "  if status[i] == \"Private\":\n",
        "    status[i] = 1\n",
        "  else:\n",
        "    status[i] = 0\n",
        "    \n",
        "building_ownership['is_private'] = status\n",
        "\n",
        "status = building_ownership['legal_ownership_status'].tolist()\n",
        "for i in range(len(status)):\n",
        "  if status[i] == \"Institutional\":\n",
        "    status[i] = 1\n",
        "  else:\n",
        "    status[i] = 0\n",
        "    \n",
        "building_ownership['is_institutional'] = status\n",
        "\n",
        "status = building_ownership['legal_ownership_status'].tolist()\n",
        "for i in range(len(status)):\n",
        "  if status[i] == \"Other\":\n",
        "    status[i] = 1\n",
        "  else:\n",
        "    status[i] = 0\n",
        "    \n",
        "building_ownership['is_other'] = status"
      ],
      "execution_count": 0,
      "outputs": []
    },
    {
      "metadata": {
        "id": "mZSVnOMAW6At",
        "colab_type": "code",
        "colab": {}
      },
      "cell_type": "code",
      "source": [
        "building_ownership = building_ownership.drop(['legal_ownership_status'], 1)"
      ],
      "execution_count": 0,
      "outputs": []
    },
    {
      "metadata": {
        "id": "E4EsDpzdgS3M",
        "colab_type": "code",
        "colab": {}
      },
      "cell_type": "code",
      "source": [
        "set(building_structure['condition_post_eq'])"
      ],
      "execution_count": 0,
      "outputs": []
    },
    {
      "metadata": {
        "id": "2JY3fLbwaqWY",
        "colab_type": "code",
        "colab": {}
      },
      "cell_type": "code",
      "source": [
        "condition = building_structure['condition_post_eq'].tolist()\n",
        "for i in range(len(condition)):\n",
        "  if condition[i] == \"Damaged-Repaired and used\":\n",
        "    condition[i] = 1\n",
        "  else:\n",
        "    condition[i] = 0\n",
        "building_structure['damaged_not_repaired_and_used'] = condition\n",
        "\n",
        "condition = building_structure['condition_post_eq'].tolist()\n",
        "for i in range(len(condition)):\n",
        "  if condition[i] == \"Damaged-Not used\":\n",
        "    condition[i] = 1\n",
        "  else:\n",
        "    condition[i] = 0    \n",
        "building_structure['damaged_not_used'] = condition\n",
        "\n",
        "condition = building_structure['condition_post_eq'].tolist()\n",
        "for i in range(len(condition)):\n",
        "  if condition[i] == \"Covered by landslide\":\n",
        "    condition[i] = 1\n",
        "  else:\n",
        "    condition[i] = 0\n",
        "building_structure['covered_by_landslides'] = condition\n",
        "    \n",
        "condition = building_structure['condition_post_eq'].tolist()\n",
        "for i in range(len(condition)):\n",
        "  if condition[i] == \"Not damaged\":\n",
        "    condition[i] = 1\n",
        "  else:\n",
        "    condition[i] = 0\n",
        "building_structure['not_damaged'] = condition\n",
        "\n",
        "condition = building_structure['condition_post_eq'].tolist()\n",
        "for i in range(len(condition)):\n",
        "  if condition[i] == \"Damaged-Rubble unclear\":\n",
        "    condition[i] = 1\n",
        "  else:\n",
        "    condition[i] = 0\n",
        "building_structure['damaged_rubble_unclear'] = condition\n",
        "\n",
        "condition = building_structure['condition_post_eq'].tolist()\n",
        "for i in range(len(condition)):\n",
        "  if condition[i] == \"Damaged-Rubble clear\":\n",
        "    condition[i] = 1\n",
        "  else:\n",
        "    condition[i] = 0\n",
        "building_structure['damaged_rubble_clear'] = condition\n",
        "\n",
        "condition = building_structure['condition_post_eq'].tolist()\n",
        "for i in range(len(condition)):\n",
        "  if condition[i] == \"Damaged-Rubble Clear-New building built\":\n",
        "    condition[i] = 1\n",
        "  else:\n",
        "    condition[i] = 0\n",
        "building_structure['damaged_rubble_clear_new_building_built'] = condition"
      ],
      "execution_count": 0,
      "outputs": []
    },
    {
      "metadata": {
        "id": "E17k6EJSGIeC",
        "colab_type": "code",
        "colab": {}
      },
      "cell_type": "code",
      "source": [
        "set(building_structure['land_surface_condition'])"
      ],
      "execution_count": 0,
      "outputs": []
    },
    {
      "metadata": {
        "id": "no4vazTdbtPt",
        "colab_type": "code",
        "colab": {}
      },
      "cell_type": "code",
      "source": [
        "sur = building_structure['land_surface_condition'].tolist()\n",
        "for i in range(len(sur)):\n",
        "  if sur[i] == 'Flat':\n",
        "    sur[i] = 1\n",
        "  else:\n",
        "    sur[i] = 0    \n",
        "building_structure['is_flat'] = sur\n",
        "\n",
        "sur = building_structure['land_surface_condition'].tolist()\n",
        "for i in range(len(sur)):\n",
        "  if sur[i] == 'Moderate slope':\n",
        "    sur[i] = 1\n",
        "  else:\n",
        "    sur[i] = 0    \n",
        "building_structure['is_moderate_slope'] = sur\n",
        "\n",
        "sur = building_structure['land_surface_condition'].tolist()\n",
        "for i in range(len(sur)):\n",
        "  if sur[i] == 'Steep slope':\n",
        "    sur[i] = 1\n",
        "  else:\n",
        "    sur[i] = 0   \n",
        "building_structure['is_steep_slope'] = sur"
      ],
      "execution_count": 0,
      "outputs": []
    },
    {
      "metadata": {
        "id": "EKcrUebhGrVQ",
        "colab_type": "code",
        "colab": {}
      },
      "cell_type": "code",
      "source": [
        "set(building_structure['foundation_type'])"
      ],
      "execution_count": 0,
      "outputs": []
    },
    {
      "metadata": {
        "id": "H3_bTc7Db9Yh",
        "colab_type": "code",
        "colab": {}
      },
      "cell_type": "code",
      "source": [
        "fond = building_structure['foundation_type'].tolist()\n",
        "for i in range(len(fond)):\n",
        "  if fond[i] == 'Bamboo/Timber':\n",
        "    fond[i] = 1\n",
        "  else:\n",
        "    fond[i] = 0   \n",
        "building_structure['is_bamboo_timber'] = fond\n",
        "\n",
        "fond = building_structure['foundation_type'].tolist()\n",
        "for i in range(len(fond)):\n",
        "  if fond[i] == 'Cement-Stone/Brick':\n",
        "    fond[i] = 1\n",
        "  else:\n",
        "    fond[i] = 0    \n",
        "building_structure['is_cement_stone_brick'] = fond\n",
        "\n",
        "fond = building_structure['foundation_type'].tolist()\n",
        "for i in range(len(fond)):\n",
        "  if fond[i] == 'Mud mortar-Stone/Brick':\n",
        "    fond[i] = 1\n",
        "  else:\n",
        "    fond[i] = 0    \n",
        "building_structure['is_mortar_stone_brick'] = fond\n",
        "\n",
        "fond = building_structure['foundation_type'].tolist()\n",
        "for i in range(len(fond)):\n",
        "  if fond[i] == 'Other':\n",
        "    fond[i] = 1\n",
        "  else:\n",
        "    fond[i] = 0    \n",
        "building_structure['is_other'] = fond\n",
        "\n",
        "fond = building_structure['foundation_type'].tolist()\n",
        "for i in range(len(fond)):\n",
        "  if fond[i] == 'RC':\n",
        "    fond[i] = 1\n",
        "  else:\n",
        "    fond[i] = 0    \n",
        "building_structure['is_rc'] = fond"
      ],
      "execution_count": 0,
      "outputs": []
    },
    {
      "metadata": {
        "id": "sFUk3lN2HPJ1",
        "colab_type": "code",
        "colab": {}
      },
      "cell_type": "code",
      "source": [
        "set(building_structure['roof_type'])"
      ],
      "execution_count": 0,
      "outputs": []
    },
    {
      "metadata": {
        "id": "PiIJ3klacQ_O",
        "colab_type": "code",
        "colab": {}
      },
      "cell_type": "code",
      "source": [
        "roof = building_structure['roof_type'].tolist()\n",
        "for i in range(len(roof)):\n",
        "  if roof[i] == 'Bamboo/Timber-Heavy roof':\n",
        "    roof[i] = 1\n",
        "  else:\n",
        "    roof[i] = 0    \n",
        "building_structure['is_bamboo_timber_heavy_roof'] = roof\n",
        "\n",
        "roof = building_structure['roof_type'].tolist()\n",
        "for i in range(len(roof)):\n",
        "  if roof[i] == 'Bamboo/Timber-Light roof':\n",
        "    roof[i] = 1\n",
        "  else:\n",
        "    roof[i] = 0    \n",
        "building_structure['is_bamboo_timber_light_roof'] = roof\n",
        "\n",
        "roof = building_structure['roof_type'].tolist()\n",
        "for i in range(len(roof)):\n",
        "  if roof[i] == 'RCC/RB/RBC':\n",
        "    roof[i] = 1\n",
        "  else:\n",
        "    roof[i] = 0    \n",
        "building_structure['is_rcc_rb_rbc'] = roof"
      ],
      "execution_count": 0,
      "outputs": []
    },
    {
      "metadata": {
        "id": "X5FTTIq3HoJg",
        "colab_type": "code",
        "colab": {}
      },
      "cell_type": "code",
      "source": [
        "set(building_structure['ground_floor_type'])"
      ],
      "execution_count": 0,
      "outputs": []
    },
    {
      "metadata": {
        "id": "zCkUcyxlcb_e",
        "colab_type": "code",
        "colab": {}
      },
      "cell_type": "code",
      "source": [
        "gr = building_structure['ground_floor_type'].tolist()\n",
        "for i in range(len(gr)):\n",
        "  if gr[i] == 'Brick/Stone':\n",
        "    gr[i] = 1\n",
        "  else:\n",
        "    gr[i] = 0    \n",
        "building_structure['is_gr_brick_stone'] = gr\n",
        "\n",
        "gr = building_structure['ground_floor_type'].tolist()\n",
        "for i in range(len(gr)):\n",
        "  if gr[i] == 'Mud':\n",
        "    gr[i] = 1\n",
        "  else:\n",
        "    gr[i] = 0    \n",
        "building_structure['is_gr_mud'] = gr\n",
        "\n",
        "gr = building_structure['ground_floor_type'].tolist()\n",
        "for i in range(len(gr)):\n",
        "  if gr[i] == 'Other':\n",
        "    gr[i] = 1\n",
        "  else:\n",
        "    gr[i] = 0    \n",
        "building_structure['is_gr_other'] = gr\n",
        "\n",
        "gr = building_structure['ground_floor_type'].tolist()\n",
        "for i in range(len(gr)):\n",
        "  if gr[i] == 'RC':\n",
        "    gr[i] = 1\n",
        "  else:\n",
        "    gr[i] = 0    \n",
        "building_structure['is_gr_rc'] = gr\n",
        "\n",
        "gr = building_structure['ground_floor_type'].tolist()\n",
        "for i in range(len(gr)):\n",
        "  if gr[i] == 'Timber':\n",
        "    gr[i] = 1\n",
        "  else:\n",
        "    gr[i] = 0    \n",
        "building_structure['is_gr_timber'] = gr"
      ],
      "execution_count": 0,
      "outputs": []
    },
    {
      "metadata": {
        "id": "BKrryS--IH20",
        "colab_type": "code",
        "colab": {}
      },
      "cell_type": "code",
      "source": [
        "set(building_structure['other_floor_type'])"
      ],
      "execution_count": 0,
      "outputs": []
    },
    {
      "metadata": {
        "id": "Lbuvos0ucwQ6",
        "colab_type": "code",
        "colab": {}
      },
      "cell_type": "code",
      "source": [
        "fr = building_structure['other_floor_type'].tolist()\n",
        "for i in range(len(fr)):\n",
        "  if fr[i] == 'Timber-Planck':\n",
        "    fr[i] = 1\n",
        "  else:\n",
        "    fr[i] = 0    \n",
        "building_structure['is_fr_timber_plank'] = fr\n",
        "\n",
        "fr = building_structure['other_floor_type'].tolist()\n",
        "for i in range(len(fr)):\n",
        "  if fr[i] == 'Not applicable':\n",
        "    fr[i] = 1\n",
        "  else:\n",
        "    fr[i] = 0    \n",
        "building_structure['is_fr_not_applicable'] = fr\n",
        "\n",
        "fr = building_structure['other_floor_type'].tolist()\n",
        "for i in range(len(fr)):\n",
        "  if fr[i] == 'RCC/RB/RBC':\n",
        "    fr[i] = 1\n",
        "  else:\n",
        "    fr[i] = 0    \n",
        "building_structure['is_fr_rcc_rb_rbc'] = fr\n",
        "\n",
        "fr = building_structure['other_floor_type'].tolist()\n",
        "for i in range(len(fr)):\n",
        "  if fr[i] == 'TImber/Bamboo-Mud':\n",
        "    fr[i] = 1\n",
        "  else:\n",
        "    fr[i] = 0    \n",
        "building_structure['is_fr_timber_bamboo_mud'] = fr"
      ],
      "execution_count": 0,
      "outputs": []
    },
    {
      "metadata": {
        "id": "Yx0ELYZGIlDT",
        "colab_type": "code",
        "colab": {}
      },
      "cell_type": "code",
      "source": [
        "set(building_structure['position'])"
      ],
      "execution_count": 0,
      "outputs": []
    },
    {
      "metadata": {
        "id": "cfBmf_QCdEkG",
        "colab_type": "code",
        "colab": {}
      },
      "cell_type": "code",
      "source": [
        "fr = building_structure['position'].tolist()\n",
        "for i in range(len(fr)):\n",
        "  if fr[i] == \"Attached-1 side\":\n",
        "    fr[i] = 1\n",
        "  else:\n",
        "    fr[i] = 0\n",
        "building_structure['is_fr_attached_1_side'] = fr\n",
        "\n",
        "fr = building_structure['position'].tolist()\n",
        "for i in range(len(fr)):\n",
        "  if fr[i] == \"Attached-2 side\":\n",
        "    fr[i] = 1\n",
        "  else:\n",
        "    fr[i] = 0\n",
        "building_structure['is_fr_attached_2_side'] = fr\n",
        "\n",
        "fr = building_structure['position'].tolist()\n",
        "for i in range(len(fr)):\n",
        "  if fr[i] == \"Attached-3 side\":\n",
        "    fr[i] = 1\n",
        "  else:\n",
        "    fr[i] = 0    \n",
        "building_structure['is_fr_attached_3_side'] = fr\n",
        "\n",
        "fr = building_structure['position'].tolist()\n",
        "for i in range(len(fr)):\n",
        "  if fr[i] == \"Not attached\":\n",
        "    fr[i] = 1\n",
        "  else:\n",
        "    fr[i] = 0    \n",
        "building_structure['is_fr_not_attached'] = fr\n",
        "\n",
        "fr = building_structure['position'].tolist()\n",
        "for i in range(len(fr)):\n",
        "  if fr[i] == \"\":\n",
        "    fr[i] = 1\n",
        "  else:\n",
        "    fr[i] = 0  \n",
        "building_structure['is_fr_other'] = fr"
      ],
      "execution_count": 0,
      "outputs": []
    },
    {
      "metadata": {
        "id": "HJkqBwZZJfR0",
        "colab_type": "code",
        "colab": {}
      },
      "cell_type": "code",
      "source": [
        "set(building_structure['plan_configuration'])"
      ],
      "execution_count": 0,
      "outputs": []
    },
    {
      "metadata": {
        "id": "xmh8R1O8dwKW",
        "colab_type": "code",
        "colab": {}
      },
      "cell_type": "code",
      "source": [
        "pc = building_structure['plan_configuration'].tolist()\n",
        "\n",
        "for i in range(len(pc)):\n",
        "  if pc[i] == \"Building with Central Courtyard\":\n",
        "    pc[i] = 1\n",
        "  else:\n",
        "    pc[i] = 0\n",
        "    \n",
        "building_structure['is_pc_building_with_central_courtyard'] = pc\n",
        "\n",
        "pc = building_structure['plan_configuration'].tolist()\n",
        "\n",
        "for i in range(len(pc)):\n",
        "  if pc[i] == \"E-shape\":\n",
        "    pc[i] = 1\n",
        "  else:\n",
        "    pc[i] = 0\n",
        "    \n",
        "building_structure['is_pc_e_shape'] = pc\n",
        "\n",
        "pc = building_structure['plan_configuration'].tolist()\n",
        "\n",
        "for i in range(len(pc)):\n",
        "  if pc[i] == \"H-shape\":\n",
        "    pc[i] = 1\n",
        "  else:\n",
        "    pc[i] = 0\n",
        "    \n",
        "building_structure['is_pc_h_shape'] = pc\n",
        "\n",
        "pc = building_structure['plan_configuration'].tolist()\n",
        "\n",
        "for i in range(len(pc)):\n",
        "  if pc[i] == \"L-shape\":\n",
        "    pc[i] = 1\n",
        "  else:\n",
        "    pc[i] = 0\n",
        "    \n",
        "building_structure['is_pc_l_shape'] = pc\n",
        "\n",
        "pc = building_structure['plan_configuration'].tolist()\n",
        "\n",
        "for i in range(len(pc)):\n",
        "  if pc[i] == \"Multi-projected\":\n",
        "    pc[i] = 1\n",
        "  else:\n",
        "    pc[i] = 0\n",
        "    \n",
        "building_structure['is_pc_multi_projected'] = pc\n",
        "\n",
        "pc = building_structure['plan_configuration'].tolist()\n",
        "\n",
        "for i in range(len(pc)):\n",
        "  if pc[i] == \"Others\":\n",
        "    pc[i] = 1\n",
        "  else:\n",
        "    pc[i] = 0\n",
        "    \n",
        "building_structure['is_pc_others'] = pc\n",
        "\n",
        "pc = building_structure['plan_configuration'].tolist()\n",
        "\n",
        "for i in range(len(pc)):\n",
        "  if pc[i] == \"Rectangular\":\n",
        "    pc[i] = 1\n",
        "  else:\n",
        "    pc[i] = 0\n",
        "    \n",
        "building_structure['is_pc_rectangular'] = pc\n",
        "\n",
        "pc = building_structure['plan_configuration'].tolist()\n",
        "\n",
        "for i in range(len(pc)):\n",
        "  if pc[i] == \"Square\":\n",
        "    pc[i] = 1\n",
        "  else:\n",
        "    pc[i] = 0\n",
        "    \n",
        "building_structure['is_pc_square'] = pc\n",
        "\n",
        "pc = building_structure['plan_configuration'].tolist()\n",
        "\n",
        "for i in range(len(pc)):\n",
        "  if pc[i] == \"T-shape\":\n",
        "    pc[i] = 1\n",
        "  else:\n",
        "    pc[i] = 0\n",
        "    \n",
        "building_structure['is_pc_t_shape'] = pc\n",
        "\n",
        "pc = building_structure['plan_configuration'].tolist()\n",
        "\n",
        "for i in range(len(pc)):\n",
        "  if pc[i] == \"U-shape\":\n",
        "    pc[i] = 1\n",
        "  else:\n",
        "    pc[i] = 0\n",
        "    \n",
        "building_structure['is_pc_u_shape'] = pc\n",
        "\n",
        "pc = building_structure['plan_configuration'].tolist()\n",
        "for i in range(len(pc)):\n",
        "  if pc[i] == \"\":\n",
        "    pc[i] = 1\n",
        "  else:\n",
        "    pc[i] = 0\n",
        "building_structure['is_pc_null'] = pc"
      ],
      "execution_count": 0,
      "outputs": []
    },
    {
      "metadata": {
        "id": "H3CGp7MnLXaJ",
        "colab_type": "code",
        "colab": {}
      },
      "cell_type": "code",
      "source": [
        "building_structure = building_structure.drop(['land_surface_condition', 'foundation_type', 'roof_type', 'ground_floor_type', 'other_floor_type', 'position', 'plan_configuration', 'condition_post_eq'], 1)"
      ],
      "execution_count": 0,
      "outputs": []
    },
    {
      "metadata": {
        "id": "Aw__E0P0Wuq8",
        "colab_type": "code",
        "colab": {}
      },
      "cell_type": "code",
      "source": [
        "building_structure.head(5)"
      ],
      "execution_count": 0,
      "outputs": []
    },
    {
      "metadata": {
        "id": "8wxe2o38M_wf",
        "colab_type": "code",
        "colab": {}
      },
      "cell_type": "code",
      "source": [
        "from numpy import array\n",
        "from numpy import argmax\n",
        "from sklearn.preprocessing import LabelEncoder\n",
        "from sklearn.preprocessing import OneHotEncoder"
      ],
      "execution_count": 0,
      "outputs": []
    },
    {
      "metadata": {
        "id": "nyJz4YGPpzFn",
        "colab_type": "code",
        "colab": {}
      },
      "cell_type": "code",
      "source": [
        "cols = ['land_surface_condition', 'foundation_type', 'roof_type', 'ground_floor_type', 'other_floor_type', 'position', 'plan_configuration', 'condition_post_eq']\n",
        "\n",
        "for col in cols:\n",
        "  # define example\n",
        "  data = building_structure[col].tolist()\n",
        "  values = array(data)\n",
        "\n",
        "  # integer encode\n",
        "  label_encoder = LabelEncoder()\n",
        "  building_structure[col] = label_encoder.fit_transform(values)\n",
        "  \n",
        "  # binary encode\n",
        "  #onehot_encoder = OneHotEncoder(sparse=False)\n",
        "  #integer_encoded = integer_encoded.reshape(len(integer_encoded), 1)\n",
        "\n",
        "  #building_structure[col] = onehot_encoder.fit_transform(integer_encoded)\n",
        "  \n",
        "# define example\n",
        "data = building_ownership['legal_ownership_status'].tolist()\n",
        "values = array(data)\n",
        "\n",
        "# integer encode\n",
        "label_encoder = LabelEncoder()\n",
        "building_ownership['legal_ownership_status'] = label_encoder.fit_transform(values)\n",
        "\n",
        "# binary encode\n",
        "#onehot_encoder = OneHotEncoder(sparse=False)\n",
        "#integer_encoded = integer_encoded.reshape(len(integer_encoded), 1)\n",
        "\n",
        "#building_ownership['legal_ownership_status'] = onehot_encoder.fit_transform(integer_encoded)"
      ],
      "execution_count": 0,
      "outputs": []
    },
    {
      "metadata": {
        "id": "yUmoUbSfJyrm",
        "colab_type": "code",
        "colab": {}
      },
      "cell_type": "code",
      "source": [
        "set(train_data['area_assesed'])"
      ],
      "execution_count": 0,
      "outputs": []
    },
    {
      "metadata": {
        "id": "btMAa_W5Nb94",
        "colab_type": "code",
        "colab": {}
      },
      "cell_type": "code",
      "source": [
        "# define example\n",
        "data = train_data['area_assesed'].tolist()\n",
        "values = array(data)\n",
        "\n",
        "# integer encode\n",
        "label_encoder = LabelEncoder()\n",
        "train_data['area_assesed'] = label_encoder.fit_transform(values)\n",
        "\n",
        "# binary encode\n",
        "#onehot_encoder = OneHotEncoder(sparse=False)\n",
        "#integer_encoded = integer_encoded.reshape(len(integer_encoded), 1)\n",
        "\n",
        "#train_data['area_assesed'] = onehot_encoder.fit_transform(integer_encoded)\n",
        "\n",
        "# define example\n",
        "data = test_data['area_assesed'].tolist()\n",
        "values = array(data)\n",
        "\n",
        "# integer encode\n",
        "label_encoder = LabelEncoder()\n",
        "test_data['area_assesed'] = label_encoder.fit_transform(values)\n",
        "\n",
        "# binary encode\n",
        "#onehot_encoder = OneHotEncoder(sparse=False)\n",
        "#integer_encoded = integer_encoded.reshape(len(integer_encoded), 1)\n",
        "\n",
        "#test_data['area_assesed'] = onehot_encoder.fit_transform(integer_encoded)"
      ],
      "execution_count": 0,
      "outputs": []
    },
    {
      "metadata": {
        "id": "k6LQ0JHjeLav",
        "colab_type": "code",
        "colab": {}
      },
      "cell_type": "code",
      "source": [
        "arss = train_data['area_assesed'].tolist()\n",
        "\n",
        "for i in range(len(arss)):\n",
        "  if arss[i] == \"Both\":\n",
        "    arss[i] = 1\n",
        "  else:\n",
        "    arss[i] = 0\n",
        "    \n",
        "train_data['is_aa_both'] = arss\n",
        "\n",
        "arss = train_data['area_assesed'].tolist()\n",
        "\n",
        "for i in range(len(arss)):\n",
        "  if arss[i] == \"Building removed\":\n",
        "    arss[i] = 1\n",
        "  else:\n",
        "    arss[i] = 0\n",
        "    \n",
        "train_data['is_aa_building_removed'] = arss\n",
        "\n",
        "arss = train_data['area_assesed'].tolist()\n",
        "\n",
        "for i in range(len(arss)):\n",
        "  if arss[i] == \"Exterior\":\n",
        "    arss[i] = 1\n",
        "  else:\n",
        "    arss[i] = 0\n",
        "    \n",
        "train_data['is_aa_exterior'] = arss\n",
        "\n",
        "arss = train_data['area_assesed'].tolist()\n",
        "\n",
        "for i in range(len(arss)):\n",
        "  if arss[i] == \"Interior\":\n",
        "    arss[i] = 1\n",
        "  else:\n",
        "    arss[i] = 0\n",
        "    \n",
        "train_data['is_aa_interior'] = arss\n",
        "\n",
        "arss = train_data['area_assesed'].tolist()\n",
        "\n",
        "for i in range(len(arss)):\n",
        "  if arss[i] == \"Not able to inspect\":\n",
        "    arss[i] = 1\n",
        "  else:\n",
        "    arss[i] = 0\n",
        "    \n",
        "train_data['is_aa_not_able_to_inspect'] = arss"
      ],
      "execution_count": 0,
      "outputs": []
    },
    {
      "metadata": {
        "id": "31-rAKedXdCC",
        "colab_type": "code",
        "colab": {}
      },
      "cell_type": "code",
      "source": [
        "train_data = train_data.drop(['area_assesed'], 1)"
      ],
      "execution_count": 0,
      "outputs": []
    },
    {
      "metadata": {
        "id": "pDGSB5WIeV-0",
        "colab_type": "code",
        "colab": {}
      },
      "cell_type": "code",
      "source": [
        "tarss = test_data['area_assesed'].tolist()\n",
        "\n",
        "for i in range(len(tarss)):\n",
        "  if tarss[i] == \"Building removed\":\n",
        "    tarss[i] = 1\n",
        "  else:\n",
        "    tarss[i] = 0\n",
        "    \n",
        "test_data['is_aa_building_removed'] = tarss\n",
        "\n",
        "tarss = test_data['area_assesed'].tolist()\n",
        "\n",
        "for i in range(len(tarss)):\n",
        "  if tarss[i] == \"Both\":\n",
        "    tarss[i] = 1\n",
        "  else:\n",
        "    tarss[i] = 0\n",
        "    \n",
        "test_data['is_aa_both'] = tarss\n",
        "\n",
        "tarss = test_data['area_assesed'].tolist()\n",
        "\n",
        "for i in range(len(tarss)):\n",
        "  if tarss[i] == \"Exterior\":\n",
        "    tarss[i] = 1\n",
        "  else:\n",
        "    tarss[i] = 0\n",
        "    \n",
        "test_data['is_aa_exterior'] = tarss\n",
        "\n",
        "tarss = test_data['area_assesed'].tolist()\n",
        "\n",
        "for i in range(len(tarss)):\n",
        "  if tarss[i] == \"Interior\":\n",
        "    tarss[i] = 1\n",
        "  else:\n",
        "    tarss[i] = 0\n",
        "    \n",
        "test_data['is_aa_interior'] = tarss\n",
        "\n",
        "tarss = test_data['area_assesed'].tolist()\n",
        "\n",
        "for i in range(len(tarss)):\n",
        "  if tarss[i] == \"Not able to inspect\":\n",
        "    tarss[i] = 1\n",
        "  else:\n",
        "    tarss[i] = 0\n",
        "    \n",
        "test_data['is_aa_not_able_to_inspect'] = tarss"
      ],
      "execution_count": 0,
      "outputs": []
    },
    {
      "metadata": {
        "id": "UlgiYJHBX5cp",
        "colab_type": "code",
        "colab": {}
      },
      "cell_type": "code",
      "source": [
        "test_data = test_data.drop(['area_assesed'], 1)"
      ],
      "execution_count": 0,
      "outputs": []
    },
    {
      "metadata": {
        "id": "K2GyOpKb_-Ai",
        "colab_type": "code",
        "colab": {}
      },
      "cell_type": "code",
      "source": [
        "#building_info = pd.merge(building_structure, building_ownership, left_on='building_id', right_on='building_id')\n",
        "train = pd.merge(building_structure, train_data, left_on='building_id', right_on='building_id')\n",
        "test = pd.merge(building_structure, test_data, left_on='building_id', right_on='building_id')\n",
        "\n",
        "labels = train['damage_grade']\n",
        "train = train.drop(['building_id', 'damage_grade'], 1)\n",
        "test = test.drop(['building_id'], 1)\n",
        "\n",
        "train = train.values\n",
        "test= test.values\n",
        "\n",
        "train = train.astype('int32')\n",
        "test = train.astype('int32')\n",
        "\n",
        "train = pd.DataFrame(train)\n",
        "test = pd.DataFrame(test)\n",
        "\n",
        "# x_train = train.values\n",
        "# x_test = test.values\n",
        "\n",
        "# define example\n",
        "data = labels\n",
        "values = array(data)\n",
        "\n",
        "# integer encode\n",
        "label_encoder = LabelEncoder()\n",
        "labels = label_encoder.fit_transform(values)\n",
        "\n",
        "labels = labels.astype('int32')\n",
        "labels = pd.DataFrame(labels)\n",
        "\n",
        "# binary encode\n",
        "#onehot_encoder = OneHotEncoder(sparse=False)\n",
        "#integer_encoded = integer_encoded.reshape(len(integer_encoded), 1)\n",
        "\n",
        "#y_train = onehot_encoder.fit_transform(integer_encoded)"
      ],
      "execution_count": 0,
      "outputs": []
    },
    {
      "metadata": {
        "id": "pLGQm3a3r3eo",
        "colab_type": "code",
        "colab": {}
      },
      "cell_type": "code",
      "source": [
        "from sklearn.cross_validation import train_test_split\n",
        "\n",
        "x_train, x_val, y_train, y_val = train_test_split(train, labels, test_size=0.25, random_state=42)"
      ],
      "execution_count": 0,
      "outputs": []
    },
    {
      "metadata": {
        "id": "OaFaHfhfueUu",
        "colab_type": "code",
        "colab": {}
      },
      "cell_type": "code",
      "source": [
        "x_train = x_train.astype('int32')\n",
        "y_train = y_train.astype('int32')\n",
        "\n",
        "x_val = x_val.astype('int32')\n",
        "y_val = y_val.astype('int32')\n",
        "\n",
        "x_test = x_test.astype('int32')"
      ],
      "execution_count": 0,
      "outputs": []
    },
    {
      "metadata": {
        "id": "WzRb7qnqjQJl",
        "colab_type": "code",
        "colab": {}
      },
      "cell_type": "code",
      "source": [
        "type(labels)"
      ],
      "execution_count": 0,
      "outputs": []
    },
    {
      "metadata": {
        "id": "uXyyoXTG20V2",
        "colab_type": "code",
        "colab": {}
      },
      "cell_type": "code",
      "source": [
        "from sklearn.pipeline import make_pipeline\n",
        "from sklearn.ensemble import RandomForestClassifier, ExtraTreesClassifier\n",
        "from sklearn.ensemble.gradient_boosting import GradientBoostingClassifier\n",
        "from sklearn.neural_network import MLPClassifier\n",
        "from sklearn.ensemble import AdaBoostClassifier\n",
        "from sklearn.feature_selection import SelectKBest, SelectFromModel\n",
        "from sklearn.model_selection import StratifiedKFold, GridSearchCV, cross_val_score\n",
        "from sklearn.linear_model import LogisticRegression, LogisticRegressionCV\n",
        "from sklearn.metrics import accuracy_score, confusion_matrix\n",
        "from sklearn import svm\n",
        "from xgboost import XGBClassifier\n",
        "import matplotlib.pyplot as plt\n",
        "import numpy as np\n",
        "\n",
        "def Stacking(model, train, y, test, n_fold):\n",
        "  folds = StratifiedKFold(n_splits=n_fold, random_state=1)\n",
        "  test_pred = np.empty((test.shape[0],1), int)\n",
        "  train_pred = np.empty((0, 1), int)\n",
        "  \n",
        "  for train_indices, val_indices in folds.split(train, y):\n",
        "      x_train, x_val = train.iloc[train_indices],train.iloc[val_indices]\n",
        "      y_train, y_val = y.iloc[train_indices],y.iloc[val_indices]\n",
        "\n",
        "      model.fit(X=x_train,y=y_train)\n",
        "      train_pred = np.append(train_pred, model.predict(x_val))\n",
        "      test_pred = np.append(test_pred, model.predict(test))\n",
        "      return test_pred.reshape(-1,1), train_pred\n",
        "  \n",
        "model1 = RandomForestClassifier(random_state=1)\n",
        "\n",
        "test_pred1, train_pred1 = Stacking(model=model1, n_fold=10, train=train, test=test, y=labels)\n",
        "\n",
        "train_pred1 = pd.DataFrame(train_pred1)\n",
        "test_pred1 = pd.DataFrame(test_pred1)\n",
        "\n",
        "model2 = XGBClassifier()\n",
        "\n",
        "test_pred2, train_pred2 = Stacking(model=model2, n_fold=10, train=train, test=test, y=labels)\n",
        "\n",
        "train_pred2 = pd.DataFrame(train_pred2)\n",
        "test_pred2 = pd.DataFrame(test_pred2)\n",
        "\n",
        "df = pd.concat([train_pred1, train_pred2], axis=1)\n",
        "df_test = pd.concat([test_pred1, test_pred2], axis=1)\n",
        "\n",
        "model = LogisticRegression(random_state=1)\n",
        "model.fit(df, y_train)\n",
        "model.score(df_test, y_val)\n",
        "\n",
        "# Train and Test Accuracy\n",
        "# print(\"Train Accuracy :: \", accuracy_score(y_train, trained_model.predict(x_train)))\n",
        "# print(\"Test Accuracy  :: \", accuracy_score(y_val, trained_model.predict(x_val)))"
      ],
      "execution_count": 0,
      "outputs": []
    },
    {
      "metadata": {
        "id": "y9CW_NhKNHiR",
        "colab_type": "code",
        "colab": {}
      },
      "cell_type": "code",
      "source": [
        "!pip install lightgbm"
      ],
      "execution_count": 0,
      "outputs": []
    },
    {
      "metadata": {
        "id": "7SIYBTwzOJCc",
        "colab_type": "code",
        "colab": {}
      },
      "cell_type": "code",
      "source": [
        "predictions = trained_model.predict(x_test)"
      ],
      "execution_count": 0,
      "outputs": []
    },
    {
      "metadata": {
        "id": "67Awp4WfPFeb",
        "colab_type": "code",
        "colab": {}
      },
      "cell_type": "code",
      "source": [
        "test_building_ids = test_data['building_id'].tolist()"
      ],
      "execution_count": 0,
      "outputs": []
    },
    {
      "metadata": {
        "id": "J7ZT5DtEbY3v",
        "colab_type": "code",
        "colab": {}
      },
      "cell_type": "code",
      "source": [
        "!pip install tqdm"
      ],
      "execution_count": 0,
      "outputs": []
    },
    {
      "metadata": {
        "id": "kk3KpSWGT8WQ",
        "colab_type": "code",
        "colab": {}
      },
      "cell_type": "code",
      "source": [
        "import csv\n",
        "from tqdm import tqdm\n",
        "import warnings\n",
        "warnings.filterwarnings(\"ignore\", category=DeprecationWarning)\n",
        "\n",
        "with open('./sample_submission.csv', 'w') as file:\n",
        "  \n",
        "  writer = csv.writer(file)\n",
        "  writer.writerow(['building_id', 'damage_grade'])\n",
        "  i = 0;\n",
        "  for prediction in tqdm(predictions):    \n",
        "    predicted_class = label_encoder.inverse_transform(prediction)\n",
        "    building_id = test_building_ids[i]\n",
        "    \n",
        "    predict = [str(building_id), str(predicted_class)]\n",
        "    \n",
        "    i += 1        \n",
        "    \n",
        "    writer.writerow(predict)"
      ],
      "execution_count": 0,
      "outputs": []
    },
    {
      "metadata": {
        "id": "xVrod4cNW0ZD",
        "colab_type": "code",
        "colab": {}
      },
      "cell_type": "code",
      "source": [
        "f = pd.read_csv('./sample_submission.csv')\n",
        "f.head(50)"
      ],
      "execution_count": 0,
      "outputs": []
    },
    {
      "metadata": {
        "id": "NZoMuw83ZmHY",
        "colab_type": "code",
        "colab": {}
      },
      "cell_type": "code",
      "source": [
        "from google.colab import files\n",
        "\n",
        "files.download('./sample_submission.csv')"
      ],
      "execution_count": 0,
      "outputs": []
    },
    {
      "metadata": {
        "id": "iK7_akHbJXBt",
        "colab_type": "code",
        "colab": {}
      },
      "cell_type": "code",
      "source": [
        ""
      ],
      "execution_count": 0,
      "outputs": []
    }
  ]
}